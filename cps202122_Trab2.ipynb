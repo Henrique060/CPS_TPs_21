{
 "cells": [
  {
   "cell_type": "markdown",
   "metadata": {},
   "source": [
    "# ISEL - CPS \n",
    "## Semestre 2021/22\n",
    "# <br>\n",
    "###  <center> Trabalho Prático 2</center>\n",
    "# </br>\n",
    "\n",
    "Trabalho realizado por:\n",
    "* aluno1, numero <b> 00000 </b>\n",
    "* aluno2, numero <b> 00000 </b>\n",
    "\n",
    "\n"
   ]
  },
  {
   "cell_type": "markdown",
   "metadata": {},
   "source": [
    "A figura representa o esquema típico do processo de envio e recepção de informação usando modulações\n",
    "digitais.\n",
    "\n",
    "![fig_trab](esquemaCPS.png)\n",
    "\n",
    "O 2º trabalho foca os blocos Codificação/descodificação do sinal e os blocos Deteção e Correção de erros. O canal é modelado pelo modelo Binary Symmetric Channel ([BSC](https://en.wikipedia.org/wiki/Binary_symmetric_channel)) "
   ]
  },
  {
   "cell_type": "markdown",
   "metadata": {},
   "source": [
    "# Codificação\n",
    "Construa uma função Python que dado um Numpy array (com dimensão $N$) com valores inteiros, retorne um Numpy array (com dimensão $N.R\\times 1$) com os mesmos valores convertidos para binário.\n",
    "Esta função ainda deve receber como parâmetros de entrada o número de bits ($R$) a usar na conversão de cada inteiro.\n"
   ]
  },
  {
   "cell_type": "code",
   "execution_count": 19,
   "metadata": {},
   "outputs": [],
   "source": [
    "import numpy as np\n",
    "import matplotlib.pyplot as plt\n",
    "import itertools\n",
    "\n",
    "def Codific(arr_signal_quantized,R):\n",
    "    \"\"\" arr_signal_quantized = [];\n",
    "    arr_binary = np.zeros(len(arr_signal_quantized))\n",
    "    for i in range(len(arr_signal_quantized)):\n",
    "        arr_binary[i] = np.binary_repr(arr_signal_quantized[i], width=R) \"\"\"\n",
    "\n",
    "    val = \"0\" + str(R) + \"b\"\n",
    "    array = list(map(lambda z: format(z,val), arr_signal_quantized))\n",
    "    s = itertools.chain(*array)\n",
    "    arrayint = list(map(int,s))\n",
    "\n",
    "    arr_binary = np.array(map(int,s))\n",
    "    \n",
    "    return arr_binary\n"
   ]
  },
  {
   "cell_type": "markdown",
   "metadata": {},
   "source": [
    "Construa uma função que dado um Numpy array com valores os bits, faça a conversão para inteiros (considerando R bits)."
   ]
  },
  {
   "cell_type": "code",
   "execution_count": 20,
   "metadata": {},
   "outputs": [],
   "source": [
    "def Descodific(arr_binary,R):\n",
    "    #resposta\n",
    "    #trbaalho feito 17/12/21\n",
    "    arrays = []\n",
    "    x = 0\n",
    "    ze = R\n",
    "    for z in range(int(len(arr_binary) / R )):\n",
    "        arrayconv = arr_binary[x:ze]\n",
    "        arrayconv = \"\".join(map(str, arrayconv))\n",
    "        arrays.append(arrayconv)\n",
    "        x = x+R\n",
    "        ze = ze + R\n",
    "    arrays = list(map(lambda z: int (z,2), arrays))\n",
    "\n",
    "    arr_signal = np.array(arrays)\n",
    "\n",
    "    return arr_signal"
   ]
  },
  {
   "cell_type": "markdown",
   "metadata": {},
   "source": [
    "Com base nas funções já implementadas, faça a codificação e descodificação PCM uniforme do sinal de áudio previamente gravado.\n",
    "Verifique qual a SNR obtida e ouça o sinal descodificado. \n",
    "Use para o efeito R=3, 5 e 8."
   ]
  },
  {
   "cell_type": "code",
   "execution_count": 21,
   "metadata": {},
   "outputs": [],
   "source": [
    "#Resposta:"
   ]
  },
  {
   "cell_type": "markdown",
   "metadata": {},
   "source": [
    "Faça o mesmo teste mas agora com a imagem fornecida.\n",
    "comente os resultados obtidos."
   ]
  },
  {
   "cell_type": "code",
   "execution_count": 22,
   "metadata": {
    "scrolled": true
   },
   "outputs": [],
   "source": [
    "#Resposta:"
   ]
  },
  {
   "cell_type": "markdown",
   "metadata": {},
   "source": [
    "# Deteção e Correção de erros\n",
    "\n",
    "Construa uma função que implemente o Hamming(8,4). Utilize a seguinte matriz geradora:"
   ]
  },
  {
   "cell_type": "code",
   "execution_count": 23,
   "metadata": {},
   "outputs": [
    {
     "data": {
      "text/plain": [
       "array([[1, 0, 0, 0, 1, 1, 0, 1],\n",
       "       [0, 1, 0, 0, 1, 0, 1, 1],\n",
       "       [0, 0, 1, 0, 0, 1, 1, 1],\n",
       "       [0, 0, 0, 1, 1, 1, 1, 0]])"
      ]
     },
     "execution_count": 23,
     "metadata": {},
     "output_type": "execute_result"
    }
   ],
   "source": [
    "G=np.array([[1,0,0,0,1,1,0,1],[0,1,0,0,1,0,1,1],[0,0,1,0,0,1,1,1],[0,0,0,1,1,1,1,0]])\n",
    "G"
   ]
  },
  {
   "cell_type": "code",
   "execution_count": 24,
   "metadata": {},
   "outputs": [
    {
     "ename": "ValueError",
     "evalue": "all the input array dimensions for the concatenation axis must match exactly, but along dimension 0, the array at index 0 has size 4 and the array at index 1 has size 8",
     "output_type": "error",
     "traceback": [
      "\u001b[1;31m---------------------------------------------------------------------------\u001b[0m",
      "\u001b[1;31mValueError\u001b[0m                                Traceback (most recent call last)",
      "\u001b[1;32m<ipython-input-24-88fe82b6487e>\u001b[0m in \u001b[0;36m<module>\u001b[1;34m\u001b[0m\n\u001b[0;32m     68\u001b[0m \u001b[1;33m\u001b[0m\u001b[0m\n\u001b[0;32m     69\u001b[0m     \u001b[0mval_cod\u001b[0m \u001b[1;33m=\u001b[0m \u001b[0mCodific\u001b[0m\u001b[1;33m(\u001b[0m\u001b[0mval\u001b[0m\u001b[1;33m,\u001b[0m \u001b[1;36m5\u001b[0m\u001b[1;33m)\u001b[0m\u001b[1;33m\u001b[0m\u001b[1;33m\u001b[0m\u001b[0m\n\u001b[1;32m---> 70\u001b[1;33m     \u001b[0mham\u001b[0m \u001b[1;33m=\u001b[0m \u001b[0mHamming_8_4\u001b[0m\u001b[1;33m(\u001b[0m\u001b[0mval_cod\u001b[0m\u001b[1;33m)\u001b[0m\u001b[1;33m\u001b[0m\u001b[1;33m\u001b[0m\u001b[0m\n\u001b[0m\u001b[0;32m     71\u001b[0m \u001b[1;33m\u001b[0m\u001b[0m\n\u001b[0;32m     72\u001b[0m     \u001b[0mprint\u001b[0m\u001b[1;33m(\u001b[0m\u001b[1;34m\"array recebido: \"\u001b[0m\u001b[1;33m)\u001b[0m\u001b[1;33m\u001b[0m\u001b[1;33m\u001b[0m\u001b[0m\n",
      "\u001b[1;32m<ipython-input-24-88fe82b6487e>\u001b[0m in \u001b[0;36mHamming_8_4\u001b[1;34m(arr_bits)\u001b[0m\n\u001b[0;32m     33\u001b[0m     \u001b[0midentidade\u001b[0m \u001b[1;33m=\u001b[0m \u001b[0mnp\u001b[0m\u001b[1;33m.\u001b[0m\u001b[0meye\u001b[0m\u001b[1;33m(\u001b[0m\u001b[0mbitsmsg\u001b[0m\u001b[1;33m)\u001b[0m\u001b[1;33m\u001b[0m\u001b[1;33m\u001b[0m\u001b[0m\n\u001b[0;32m     34\u001b[0m \u001b[1;33m\u001b[0m\u001b[0m\n\u001b[1;32m---> 35\u001b[1;33m     \u001b[0mg\u001b[0m \u001b[1;33m=\u001b[0m \u001b[0mnp\u001b[0m\u001b[1;33m.\u001b[0m\u001b[0mhstack\u001b[0m\u001b[1;33m(\u001b[0m\u001b[1;33m(\u001b[0m\u001b[0midentidade\u001b[0m\u001b[1;33m,\u001b[0m \u001b[0mp\u001b[0m\u001b[1;33m)\u001b[0m\u001b[1;33m)\u001b[0m\u001b[1;33m\u001b[0m\u001b[1;33m\u001b[0m\u001b[0m\n\u001b[0m\u001b[0;32m     36\u001b[0m \u001b[1;33m\u001b[0m\u001b[0m\n\u001b[0;32m     37\u001b[0m     \u001b[0mmsgatual\u001b[0m \u001b[1;33m=\u001b[0m \u001b[0marr_bits\u001b[0m\u001b[1;33m\u001b[0m\u001b[1;33m\u001b[0m\u001b[0m\n",
      "\u001b[1;32m<__array_function__ internals>\u001b[0m in \u001b[0;36mhstack\u001b[1;34m(*args, **kwargs)\u001b[0m\n",
      "\u001b[1;32m~\\anaconda3\\lib\\site-packages\\numpy\\core\\shape_base.py\u001b[0m in \u001b[0;36mhstack\u001b[1;34m(tup)\u001b[0m\n\u001b[0;32m    344\u001b[0m         \u001b[1;32mreturn\u001b[0m \u001b[0m_nx\u001b[0m\u001b[1;33m.\u001b[0m\u001b[0mconcatenate\u001b[0m\u001b[1;33m(\u001b[0m\u001b[0marrs\u001b[0m\u001b[1;33m,\u001b[0m \u001b[1;36m0\u001b[0m\u001b[1;33m)\u001b[0m\u001b[1;33m\u001b[0m\u001b[1;33m\u001b[0m\u001b[0m\n\u001b[0;32m    345\u001b[0m     \u001b[1;32melse\u001b[0m\u001b[1;33m:\u001b[0m\u001b[1;33m\u001b[0m\u001b[1;33m\u001b[0m\u001b[0m\n\u001b[1;32m--> 346\u001b[1;33m         \u001b[1;32mreturn\u001b[0m \u001b[0m_nx\u001b[0m\u001b[1;33m.\u001b[0m\u001b[0mconcatenate\u001b[0m\u001b[1;33m(\u001b[0m\u001b[0marrs\u001b[0m\u001b[1;33m,\u001b[0m \u001b[1;36m1\u001b[0m\u001b[1;33m)\u001b[0m\u001b[1;33m\u001b[0m\u001b[1;33m\u001b[0m\u001b[0m\n\u001b[0m\u001b[0;32m    347\u001b[0m \u001b[1;33m\u001b[0m\u001b[0m\n\u001b[0;32m    348\u001b[0m \u001b[1;33m\u001b[0m\u001b[0m\n",
      "\u001b[1;32m<__array_function__ internals>\u001b[0m in \u001b[0;36mconcatenate\u001b[1;34m(*args, **kwargs)\u001b[0m\n",
      "\u001b[1;31mValueError\u001b[0m: all the input array dimensions for the concatenation axis must match exactly, but along dimension 0, the array at index 0 has size 4 and the array at index 1 has size 8"
     ]
    }
   ],
   "source": [
    "import numpy as np\n",
    "import matplotlib.pyplot as plt\n",
    "#from cps202122_Trab2 import Codific\n",
    "\n",
    "def Hamming_8_4(arr_bits):\n",
    "    # resposta\n",
    "\n",
    "    \"\"\" Ik = np.array([[1,0,1],[0,1,1],[1,1,1],[1,1,0]])\n",
    "    \n",
    "    \n",
    "    c = np.array_split(arr_bits, 2)\n",
    "\n",
    "\n",
    "    c1 = np.dot(c[0], Ik) / 2\n",
    "    c2 = np.dot(c[1], Ik) / 2\n",
    "\n",
    "    codigo = np.concatenate((c1,c2), axis=None) \"\"\"\n",
    "\n",
    "    bitsmsg = 4\n",
    "    bitstotal = 8\n",
    "\n",
    "    bitscontrol = bitstotal-bitsmsg\n",
    "\n",
    "    p = np.array([[1,1,0,1],\n",
    "                  [1,0,1,1],\n",
    "                  [0,1,1,1],\n",
    "                  [1,1,1,0],\n",
    "                  [1,0,0,0],\n",
    "                  [0,1,0,0],\n",
    "                  [0,0,1,0],\n",
    "                  [0,0,0,1]])   \n",
    "    \n",
    "    identidade = np.eye(bitsmsg)\n",
    "\n",
    "    g = np.hstack((identidade, p))\n",
    "\n",
    "    msgatual = arr_bits\n",
    "\n",
    "    resto = len(msgatual) % bitsmsg\n",
    "\n",
    "    if(not(resto == 0)):\n",
    "        sizefinal = len(msgatual) + (bitsmsg-resto)\n",
    "        msgatual = np.zeros(sizefinal)\n",
    "\n",
    "        for i in range(len(arr_bits)):\n",
    "            msgatual[i] = arr_bits[i]\n",
    "\n",
    "    size = len(msgatual) + ((len(msgatual) / bitsmsg) * bitscontrol)\n",
    "\n",
    "    bitsfinal = np.zeros(int(size))\n",
    "\n",
    "    count = 0\n",
    "\n",
    "    for i in range(0, len(msgatual), bitsmsg):\n",
    "        current = msgatual[i:i+bitsmsg]\n",
    "        bcontrol = np.mod(np.dot(current, G), 2)\n",
    "\n",
    "        for x in range(0, len(bcontrol)):\n",
    "            bitsfinal[count] = bcontrol[x]\n",
    "            count += 1\n",
    "\n",
    "\n",
    "    return bitsfinal.astype(\"int16\")\n",
    "\n",
    "\n",
    "if __name__ == \"__main__\":\n",
    "    val = [1,2,3]\n",
    "\n",
    "    val_cod = Codific(val, 5)\n",
    "    ham = Hamming_8_4(val_cod)\n",
    "\n",
    "    print(\"array recebido: \")\n",
    "    print(val)\n",
    "\n",
    "\n",
    "    "
   ]
  },
  {
   "cell_type": "markdown",
   "metadata": {},
   "source": [
    "Construa uma função que dado um Numpy array M bits, para cada 8 bits detecte e corriga possíveis erros, sendo o resultado 4 bits de mensagem.\n"
   ]
  },
  {
   "cell_type": "code",
   "execution_count": null,
   "metadata": {},
   "outputs": [],
   "source": [
    "def Detetor(arr_binary):\n",
    "    #resposta\n",
    "    bitsmsg = 4\n",
    "    bitstotal = 8\n",
    "\n",
    "    bitscontrol = bitstotal - bitsmsg\n",
    "\n",
    "    p = np.array([[1,1,0,1],\n",
    "                  [1,0,1,1],\n",
    "                  [0,1,1,1],\n",
    "                  [1,1,1,0],\n",
    "                  [1,0,0,0],\n",
    "                  [0,1,0,0],\n",
    "                  [0,0,1,0],\n",
    "                  [0,0,0,1]])\n",
    "\n",
    "    aux = 0\n",
    "    count = 0\n",
    "    correctedbits = 0\n",
    "    size = ((len(arr_binary)/bitstotal) * bitsmsg)\n",
    "    correctedmsg = np.zeros(int(size))\n",
    "\n",
    "    for i in range(0, len(arr_binary), bitstotal):\n",
    "        currentmsg = arr_binary[i: i + bitstotal]\n",
    "        sindromer = np.mod(np.dot(currentmsg,p),2)\n",
    "\n",
    "        for x in range(0, len(p)):\n",
    "\n",
    "            if (sum(p[x] == sindromer) == bitscontrol):\n",
    "                arr_binary[i+count] = (arr_binary[i+count]+1) % 2\n",
    "                correctedbits +=1\n",
    "\n",
    "                break\n",
    "            else:\n",
    "                count+=1\n",
    "        count = 0\n",
    "        correctedmsg[aux:aux+bitsmsg] = arr_binary[i:i+bitsmsg]\n",
    "\n",
    "    \n",
    "    \n",
    "    \n",
    "    \n",
    "    \n",
    "    return correctedbits, correctedmsg.astype(\"int16\")"
   ]
  },
  {
   "cell_type": "markdown",
   "metadata": {},
   "source": [
    "Faça um conjunto de testes para verificar o correto funcionamento das funções."
   ]
  },
  {
   "cell_type": "code",
   "execution_count": null,
   "metadata": {},
   "outputs": [
    {
     "data": {
      "text/plain": [
       "array([1.5, 1.5, 1.5, 1.5, 1.5, 1.5])"
      ]
     },
     "execution_count": 21,
     "metadata": {},
     "output_type": "execute_result"
    }
   ],
   "source": [
    "a = np.array([1,1,1,1,1,1,1,1])\n",
    "\n",
    "Hamming_8_4(a)"
   ]
  },
  {
   "cell_type": "markdown",
   "metadata": {},
   "source": [
    "Construa uma função que meça a BER entre o array de bits enviado e o array de bits recebido."
   ]
  },
  {
   "cell_type": "code",
   "execution_count": null,
   "metadata": {},
   "outputs": [],
   "source": [
    "def BER_pratico(arr_bin_tx, arr_bin_rx):\n",
    "    # resposta\n",
    "    return BER_pratico"
   ]
  },
  {
   "cell_type": "markdown",
   "metadata": {},
   "source": [
    "Com as duas funções realizadas e admitindo que os restantes blocos do emissor, canal e receptor possam ser simulados pela expressão $y=1*np.logical\\_xor(x,np.random.binomial(1, BER_t,len(x)))$, onde $BER_t$ contém o valor pretendido para o bit error rate.\n",
    "\n",
    "Meça o BER antes e após a correcção de erros, para diferentes valores de $BER_t$."
   ]
  },
  {
   "cell_type": "code",
   "execution_count": null,
   "metadata": {},
   "outputs": [
    {
     "ename": "NameError",
     "evalue": "name 'x' is not defined",
     "output_type": "error",
     "traceback": [
      "\u001b[1;31m---------------------------------------------------------------------------\u001b[0m",
      "\u001b[1;31mNameError\u001b[0m                                 Traceback (most recent call last)",
      "\u001b[1;32m<ipython-input-23-ea9fdbaacf0e>\u001b[0m in \u001b[0;36m<module>\u001b[1;34m\u001b[0m\n\u001b[0;32m      1\u001b[0m \u001b[1;31m#x - array de bits a entrar no canal\u001b[0m\u001b[1;33m\u001b[0m\u001b[1;33m\u001b[0m\u001b[1;33m\u001b[0m\u001b[0m\n\u001b[0;32m      2\u001b[0m \u001b[1;31m#y - array de bits a sair do canal\u001b[0m\u001b[1;33m\u001b[0m\u001b[1;33m\u001b[0m\u001b[1;33m\u001b[0m\u001b[0m\n\u001b[1;32m----> 3\u001b[1;33m \u001b[0my\u001b[0m \u001b[1;33m=\u001b[0m \u001b[1;36m1\u001b[0m \u001b[1;33m*\u001b[0m \u001b[0mnp\u001b[0m\u001b[1;33m.\u001b[0m\u001b[0mlogical_xor\u001b[0m\u001b[1;33m(\u001b[0m \u001b[0mx\u001b[0m\u001b[1;33m,\u001b[0m \u001b[0mnp\u001b[0m\u001b[1;33m.\u001b[0m\u001b[0mrandom\u001b[0m\u001b[1;33m.\u001b[0m\u001b[0mbinomial\u001b[0m\u001b[1;33m(\u001b[0m \u001b[1;36m1\u001b[0m\u001b[1;33m,\u001b[0m \u001b[0mBERt\u001b[0m\u001b[1;33m,\u001b[0m \u001b[0mlen\u001b[0m\u001b[1;33m(\u001b[0m\u001b[0mx\u001b[0m\u001b[1;33m)\u001b[0m \u001b[1;33m)\u001b[0m \u001b[1;33m)\u001b[0m\u001b[1;33m\u001b[0m\u001b[1;33m\u001b[0m\u001b[0m\n\u001b[0m\u001b[0;32m      4\u001b[0m \u001b[1;33m\u001b[0m\u001b[0m\n\u001b[0;32m      5\u001b[0m \u001b[1;31m#resposta\u001b[0m\u001b[1;33m\u001b[0m\u001b[1;33m\u001b[0m\u001b[1;33m\u001b[0m\u001b[0m\n",
      "\u001b[1;31mNameError\u001b[0m: name 'x' is not defined"
     ]
    }
   ],
   "source": [
    "#x - array de bits a entrar no canal\n",
    "#y - array de bits a sair do canal\n",
    "\n",
    "fs, x = wav.read(\"ola.wav\")\n",
    "data = np.array(x[:, 0], 'int16')\n",
    "R = 8\n",
    "BERt = 0.1\n",
    "SQ, IQ, VQ = sinal_normalizado(data)\n",
    "sinalcod = Codific(IQ,R)\n",
    "ham = Hamming_8_4(sinalcod)\n",
    "y = 1 * np.logical_xor( x, np.random.binomial( 1, BERt, len(x) ) )\n",
    "\n",
    "#resposta"
   ]
  },
  {
   "cell_type": "markdown",
   "metadata": {},
   "source": [
    "Considere o sinal de áudio previamente gravado. Meça SNR na recepção, o BER antes e após a correcção de erros, para diferentes valores de  𝐵𝐸𝑅𝑡 . (considera-se que o ruído é a diferença entre o sinal à entrada do transmissor e o sinal à saída do receptor); Comente os resultados obtidos."
   ]
  },
  {
   "cell_type": "code",
   "execution_count": null,
   "metadata": {},
   "outputs": [],
   "source": []
  },
  {
   "cell_type": "markdown",
   "metadata": {},
   "source": [
    "Considere a imagem fornecida e meça a SNR e o BER com e sem correção de erros.\n",
    "Visualize a imagem no receptor e comente os resultados."
   ]
  },
  {
   "cell_type": "code",
   "execution_count": null,
   "metadata": {},
   "outputs": [],
   "source": []
  }
 ],
 "metadata": {
  "kernelspec": {
   "display_name": "Python 3",
   "language": "python",
   "name": "python3"
  },
  "language_info": {
   "codemirror_mode": {
    "name": "ipython",
    "version": 3
   },
   "file_extension": ".py",
   "mimetype": "text/x-python",
   "name": "python",
   "nbconvert_exporter": "python",
   "pygments_lexer": "ipython3",
   "version": "3.8.5"
  }
 },
 "nbformat": 4,
 "nbformat_minor": 2
}
