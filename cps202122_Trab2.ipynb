{
 "cells": [
  {
   "cell_type": "markdown",
   "metadata": {},
   "source": [
    "# ISEL - CPS \n",
    "## Semestre 2021/22\n",
    "# <br>\n",
    "###  <center> Trabalho Prático 2</center>\n",
    "# </br>\n",
    "\n",
    "Trabalho realizado por:\n",
    "* Henrique Matos, numero <b> 48608 </b>\n",
    "* Tomas Marta, numero <b> 47519 </b>\n",
    "\n",
    "\n"
   ]
  },
  {
   "cell_type": "markdown",
   "metadata": {},
   "source": [
    "A figura representa o esquema típico do processo de envio e recepção de informação usando modulações\n",
    "digitais.\n",
    "\n",
    "![fig_trab](esquemaCPS.png)\n",
    "\n",
    "O 2º trabalho foca os blocos Codificação/descodificação do sinal e os blocos Deteção e Correção de erros. O canal é modelado pelo modelo Binary Symmetric Channel ([BSC](https://en.wikipedia.org/wiki/Binary_symmetric_channel)) "
   ]
  },
  {
   "cell_type": "markdown",
   "metadata": {},
   "source": [
    "# Codificação\n",
    "Construa uma função Python que dado um Numpy array (com dimensão $N$) com valores inteiros, retorne um Numpy array (com dimensão $N.R\\times 1$) com os mesmos valores convertidos para binário.\n",
    "Esta função ainda deve receber como parâmetros de entrada o número de bits ($R$) a usar na conversão de cada inteiro.\n"
   ]
  },
  {
   "cell_type": "code",
   "execution_count": 6,
   "metadata": {},
   "outputs": [],
   "source": [
    "import numpy as np\n",
    "import matplotlib.pyplot as plt\n",
    "import itertools\n",
    "import scipy.io.wavfile as wav\n",
    "\n",
    "def Codific(arr_signal_quantized,R):\n",
    "    # resposta        \n",
    "    sinal = \"0\" +str(R) +\"b\"    \n",
    "    array_sinal = list(map(lambda z: format(z,sinal),arr_signal_quantized))\n",
    "\n",
    "    binary = itertools.chain(*array_sinal)     \n",
    "    arr_binary = list(map(int, binary))\n",
    "    \n",
    "    return np.array(arr_binary)\n"
   ]
  },
  {
   "cell_type": "markdown",
   "metadata": {},
   "source": [
    "Construa uma função que dado um Numpy array com valores os bits, faça a conversão para inteiros (considerando R bits)."
   ]
  },
  {
   "cell_type": "code",
   "execution_count": 7,
   "metadata": {},
   "outputs": [],
   "source": [
    "def Descodific(arr_binary,R):\n",
    "    #resposta\n",
    "    arr_signal = []     \n",
    "    x = 0;     \n",
    "    ze = R     \n",
    "    for i in range(int(len(arr_binary)/R)):                  \n",
    "        arr_conv = arr_binary[x:ze]                  \n",
    "        arr_conv = \"\".join(map(str,arr_conv))                  \n",
    "        arr_signal.append(arr_conv)                  \n",
    "        x+=R                  \n",
    "        ze+=R              \n",
    "    arr_signal = list(map(lambda z: int(z, 2),arr_signal)) \n",
    "    \n",
    "    return arr_signal\n",
    "\n",
    "\n",
    "#funcoes auxiliares\n",
    "\n",
    "\n",
    "def sinal_normalizado(sinal):          \n",
    "    sinal_normal = sinal/max(sinal, default=0)\n",
    "             \n",
    "    return sinal_normal \n",
    "\n",
    "def Quantificador(x, Vq, Iq):\n",
    "    \n",
    "    xq = np.zeros(len(x))\n",
    "    iq = np.zeros(len(x))\n",
    "    \n",
    "    for i in range (len(x)):\n",
    "        for j in range (len(Vq)):\n",
    "            \n",
    "            if(x[i] < Iq[j]):\n",
    "                xq[i] = Vq[j]\n",
    "                iq[i] = j\n",
    "                break\n",
    "                \n",
    "            if(x[i] == Iq[j]):\n",
    "                xq[i] = Vq[j]\n",
    "                iq[i] = j\n",
    "                break\n",
    "        \n",
    "    return xq, iq\n",
    "\n",
    "def Dequantificador(valor,val_quant):          \n",
    "    x = np.zeros(len(valor)) \n",
    "\n",
    "    for i in range(len(valor)):                  \n",
    "        x[i]=val_quant[valor[i]] \n",
    "                     \n",
    "    return np.array(x) \n",
    "\n",
    "def Measure_SNRp(x,y):\n",
    "    \n",
    "    Ps = np.sum((x**2.0) / x)\n",
    "    Pe = np.sum((y**2.0)/ y)\n",
    "    SNRp = Ps/Pe\n",
    "\n",
    "    return SNRp"
   ]
  },
  {
   "cell_type": "markdown",
   "metadata": {},
   "source": [
    "Com base nas funções já implementadas, faça a codificação e descodificação PCM uniforme do sinal de áudio previamente gravado.\n",
    "Verifique qual a SNR obtida e ouça o sinal descodificado. \n",
    "Use para o efeito R=3, 5 e 8."
   ]
  },
  {
   "cell_type": "code",
   "execution_count": 8,
   "metadata": {},
   "outputs": [],
   "source": [
    "#Resposta:\n",
    "\n",
    "fs, y = wav.read(\"ola.wav\")\n",
    "\n",
    "x = np.array(y[:0],'int16') \n",
    "\n",
    "def v_snr(x, R):      \n",
    "    sinal_normal=sinal_normalizado(x)      \n",
    "    indices , vq = Quantificador(sinal_normal, R, 0)      \n",
    "    array_code = Codific(indices, R)      \n",
    "    array_desc = Descodific(array_code, R)          \n",
    "    array_dequant = Dequantificador(array_desc,vq)          \n",
    "    array_desnormal = array_dequant * max(x, default=0)          \n",
    "    snr = Measure_SNRp(array_desnormal, R)          \n",
    "    nome = \"ola\" + str(R) + \".wav\"          \n",
    "    wav.write(nome,fs,array_desnormal.astype(\"int16\"))   \n",
    "           \n",
    "    return array_desnormal , snr \n",
    "\n",
    "if __name__ == \"__main__\":                 \n",
    "    dequant3 , snr3 = v_snr(x, 3) #SNR com R=3        \n",
    "    dequant5 , snr5 = v_snr(x, 5) #SNR com R=5           \n",
    "    dequant8 , snr8 = v_snr(x, 8) #SNR com R=8   \n",
    "                    \n",
    "    plt.plot(3, snr3, \"bo\") #SNR com R=3, azul       \n",
    "    plt.plot(5, snr5, \"ro\") #SNR com R=5, vermelho       \n",
    "    plt.plot(8, snr8, \"go\") #SNR com R=8, verde    \n",
    "\n",
    "    plt.grid()   \n",
    "    plt.title(\"SNR para R = 3, 5 e 8\")   \n",
    "    plt.xlabel(\"Valores R\")     \n",
    "    plt.ylabel(\"Valores SNR\")          \n",
    "    plt.show() "
   ]
  },
  {
   "cell_type": "markdown",
   "metadata": {},
   "source": [
    "Faça o mesmo teste mas agora com a imagem fornecida.\n",
    "comente os resultados obtidos."
   ]
  },
  {
   "cell_type": "code",
   "execution_count": 9,
   "metadata": {
    "scrolled": true
   },
   "outputs": [],
   "source": [
    "#Resposta:"
   ]
  },
  {
   "cell_type": "markdown",
   "metadata": {},
   "source": [
    "# Deteção e Correção de erros\n",
    "\n",
    "Construa uma função que implemente o Hamming(8,4). Utilize a seguinte matriz geradora:"
   ]
  },
  {
   "cell_type": "code",
   "execution_count": 10,
   "metadata": {},
   "outputs": [
    {
     "data": {
      "text/plain": [
       "array([[1, 0, 0, 0, 1, 1, 0, 1],\n",
       "       [0, 1, 0, 0, 1, 0, 1, 1],\n",
       "       [0, 0, 1, 0, 0, 1, 1, 1],\n",
       "       [0, 0, 0, 1, 1, 1, 1, 0]])"
      ]
     },
     "execution_count": 10,
     "metadata": {},
     "output_type": "execute_result"
    }
   ],
   "source": [
    "G=np.array([[1,0,0,0,1,1,0,1],[0,1,0,0,1,0,1,1],[0,0,1,0,0,1,1,1],[0,0,0,1,1,1,1,0]])\n",
    "G"
   ]
  },
  {
   "cell_type": "code",
   "execution_count": 25,
   "metadata": {},
   "outputs": [],
   "source": [
    "import numpy as np\n",
    "import matplotlib.pyplot as plt\n",
    "\n",
    "#from cps202122_Trab2 import Codific\n",
    "\n",
    "def Hamming_8_4(arr_bits):\n",
    "    # resposta\n",
    "\n",
    "    \"\"\" Ik = np.array([[1,0,1],[0,1,1],[1,1,1],[1,1,0]])\n",
    "    \n",
    "    \n",
    "    c = np.array_split(arr_bits, 2)\n",
    "\n",
    "\n",
    "    c1 = np.dot(c[0], Ik) / 2\n",
    "    c2 = np.dot(c[1], Ik) / 2\n",
    "\n",
    "    codigo = np.concatenate((c1,c2), axis=None) \"\"\"\n",
    "\n",
    "    bitsmsg = 4\n",
    "    bitstotal = 8\n",
    "\n",
    "    bitscontrol = bitstotal-bitsmsg\n",
    "\n",
    "    p = np.array([[1,1,0,1],\n",
    "                  [1,0,1,1],\n",
    "                  [0,1,1,1],\n",
    "                  [1,1,1,0],\n",
    "                  [1,0,0,0],\n",
    "                  [0,1,0,0],\n",
    "                  [0,0,1,0],\n",
    "                  [0,0,0,1]])   \n",
    "    \n",
    "    identidade = np.eye(bitsmsg)\n",
    "\n",
    "    g = np.hstack((identidade, p))\n",
    "\n",
    "    msgatual = arr_bits\n",
    "\n",
    "    resto = len(msgatual) % bitsmsg\n",
    "\n",
    "    if(not(resto == 0)):\n",
    "        sizefinal = len(msgatual) + (bitsmsg-resto)\n",
    "        msgatual = np.zeros(sizefinal)\n",
    "\n",
    "        for i in range(len(arr_bits)):\n",
    "            msgatual[i] = arr_bits[i]\n",
    "\n",
    "    size = len(msgatual) + ((len(msgatual) / bitsmsg) * bitscontrol)\n",
    "\n",
    "    bitsfinal = np.zeros(int(size))\n",
    "\n",
    "    count = 0\n",
    "\n",
    "    for i in range(0, len(msgatual), bitsmsg):\n",
    "        current = msgatual[i:i+bitsmsg]\n",
    "        bcontrol = np.mod(np.dot(current, G), 2)\n",
    "\n",
    "        for x in range(0, len(bcontrol)):\n",
    "            bitsfinal[count] = bcontrol[x]\n",
    "            count += 1\n",
    "\n",
    "\n",
    "    return bitsfinal.astype(\"int16\")"
   ]
  },
  {
   "cell_type": "markdown",
   "metadata": {},
   "source": [
    "Construa uma função que dado um Numpy array M bits, para cada 8 bits detecte e corriga possíveis erros, sendo o resultado 4 bits de mensagem.\n"
   ]
  },
  {
   "cell_type": "code",
   "execution_count": 26,
   "metadata": {},
   "outputs": [],
   "source": [
    "def Detetor(arr_binary):\n",
    "    #resposta\n",
    "    bitsmsg = 4\n",
    "    bitstotal = 8\n",
    "\n",
    "    bitscontrol = bitstotal - bitsmsg\n",
    "\n",
    "    p = np.array([[1,1,0,1],\n",
    "                  [1,0,1,1],\n",
    "                  [0,1,1,1],\n",
    "                  [1,1,1,0],\n",
    "                  [1,0,0,0],\n",
    "                  [0,1,0,0],\n",
    "                  [0,0,1,0],\n",
    "                  [0,0,0,1]])\n",
    "\n",
    "    aux = 0\n",
    "    count = 0\n",
    "    correctedbits = 0\n",
    "    size = ((len(arr_binary)/bitstotal) * bitsmsg)\n",
    "    correctedmsg = np.zeros(int(size))\n",
    "\n",
    "    for i in range(0, len(arr_binary), bitstotal):\n",
    "        currentmsg = arr_binary[i: i + bitstotal]\n",
    "        sindromer = np.mod(np.dot(currentmsg,p),2)\n",
    "\n",
    "        for x in range(0, len(p)):\n",
    "\n",
    "            if (sum(p[x] == sindromer) == bitscontrol):\n",
    "                arr_binary[i+count] = (arr_binary[i+count]+1) % 2\n",
    "                correctedbits +=1\n",
    "\n",
    "                break\n",
    "            else:\n",
    "                count+=1\n",
    "        count = 0\n",
    "        correctedmsg[aux:aux+bitsmsg] = arr_binary[i:i+bitsmsg]\n",
    "\n",
    "    \n",
    "    \n",
    "    \n",
    "    \n",
    "    \n",
    "    return correctedbits, correctedmsg.astype(\"int16\")"
   ]
  },
  {
   "cell_type": "markdown",
   "metadata": {},
   "source": [
    "Faça um conjunto de testes para verificar o correto funcionamento das funções."
   ]
  },
  {
   "cell_type": "code",
   "execution_count": null,
   "metadata": {},
   "outputs": [
    {
     "data": {
      "text/plain": [
       "array([1.5, 1.5, 1.5, 1.5, 1.5, 1.5])"
      ]
     },
     "execution_count": 21,
     "metadata": {},
     "output_type": "execute_result"
    }
   ],
   "source": [
    "a = np.array([1,1,1,1,1,1,1,1])\n",
    "\n",
    "Hamming_8_4(a)"
   ]
  },
  {
   "cell_type": "markdown",
   "metadata": {},
   "source": [
    "Construa uma função que meça a BER entre o array de bits enviado e o array de bits recebido."
   ]
  },
  {
   "cell_type": "code",
   "execution_count": null,
   "metadata": {},
   "outputs": [],
   "source": [
    "def BER_pratico(arr_bin_tx, arr_bin_rx):\n",
    "    # resposta\n",
    "    return BER_pratico"
   ]
  },
  {
   "cell_type": "markdown",
   "metadata": {},
   "source": [
    "Com as duas funções realizadas e admitindo que os restantes blocos do emissor, canal e receptor possam ser simulados pela expressão $y=1*np.logical\\_xor(x,np.random.binomial(1, BER_t,len(x)))$, onde $BER_t$ contém o valor pretendido para o bit error rate.\n",
    "\n",
    "Meça o BER antes e após a correcção de erros, para diferentes valores de $BER_t$."
   ]
  },
  {
   "cell_type": "code",
   "execution_count": null,
   "metadata": {},
   "outputs": [
    {
     "ename": "IndexError",
     "evalue": "too many indices for array: array is 1-dimensional, but 2 were indexed",
     "output_type": "error",
     "traceback": [
      "\u001b[1;31m---------------------------------------------------------------------------\u001b[0m",
      "\u001b[1;31mIndexError\u001b[0m                                Traceback (most recent call last)",
      "\u001b[1;32m<ipython-input-3-52060d0ecaf9>\u001b[0m in \u001b[0;36m<module>\u001b[1;34m\u001b[0m\n\u001b[0;32m     39\u001b[0m \u001b[1;33m\u001b[0m\u001b[0m\n\u001b[0;32m     40\u001b[0m \u001b[0mfs\u001b[0m\u001b[1;33m,\u001b[0m \u001b[0mx\u001b[0m \u001b[1;33m=\u001b[0m \u001b[0mwav\u001b[0m\u001b[1;33m.\u001b[0m\u001b[0mread\u001b[0m\u001b[1;33m(\u001b[0m\u001b[1;34m\"ola.wav\"\u001b[0m\u001b[1;33m)\u001b[0m\u001b[1;33m\u001b[0m\u001b[1;33m\u001b[0m\u001b[0m\n\u001b[1;32m---> 41\u001b[1;33m \u001b[0mdata\u001b[0m \u001b[1;33m=\u001b[0m \u001b[0mnp\u001b[0m\u001b[1;33m.\u001b[0m\u001b[0marray\u001b[0m\u001b[1;33m(\u001b[0m\u001b[0mx\u001b[0m\u001b[1;33m[\u001b[0m\u001b[1;33m:\u001b[0m\u001b[1;33m,\u001b[0m \u001b[1;36m0\u001b[0m\u001b[1;33m]\u001b[0m\u001b[1;33m,\u001b[0m \u001b[1;34m'int16'\u001b[0m\u001b[1;33m)\u001b[0m\u001b[1;33m\u001b[0m\u001b[1;33m\u001b[0m\u001b[0m\n\u001b[0m\u001b[0;32m     42\u001b[0m \u001b[0mR\u001b[0m \u001b[1;33m=\u001b[0m \u001b[1;36m8\u001b[0m\u001b[1;33m\u001b[0m\u001b[1;33m\u001b[0m\u001b[0m\n\u001b[0;32m     43\u001b[0m \u001b[0mBERt\u001b[0m \u001b[1;33m=\u001b[0m \u001b[1;36m0.1\u001b[0m\u001b[1;33m\u001b[0m\u001b[1;33m\u001b[0m\u001b[0m\n",
      "\u001b[1;31mIndexError\u001b[0m: too many indices for array: array is 1-dimensional, but 2 were indexed"
     ]
    }
   ],
   "source": [
    "#x - array de bits a entrar no canal\n",
    "#y - array de bits a sair do canal\n",
    "import wave\n",
    "import scipy.io.wavfile as wav\n",
    "import numpy as np\n",
    "\n",
    "\n",
    "def sinal_normalizado(sinal):\n",
    "    sinal_normal = sinal/max(sinal)\n",
    "    return sinal_normal\n",
    "\n",
    "\n",
    "\n",
    "def tabela(nbits, vmax, tipo):\n",
    "\n",
    "    delta = 2*vmax / (2**nbits)\n",
    "\n",
    "    if(tipo ==0):\n",
    "        valores_quantificacao = np.arange(-vmax + delta/2, vmax, delta)\n",
    "        valor_decisao = np.arange(-vmax + delta, vmax - (delta/2), delta)\n",
    "\n",
    "    elif(tipo ==1):\n",
    "        valores_quantificacao = np.arange(-vmax+delta, delta, delta)\n",
    "        valor_decisao = np.arange(-vmax/2+delta/2,delta)\n",
    "    \n",
    "    return valores_quantificacao, valor_decisao\n",
    "\n",
    "\n",
    "def quant(amps, nbits, tipo):\n",
    "    vmax = np.amax(amps)\n",
    "    val_tabela = tabela(nbits,vmax,tipo)\n",
    "    vq = val_tabela\n",
    "\n",
    "    indices = np.array(list(map(lambda z: np.abs(vq-z).argmin(), amps)))\n",
    "\n",
    "    array_quant = vq[indices]\n",
    "\n",
    "    return array_quant,indices\n",
    "\n",
    "fs, x = wav.read(\"ola.wav\")\n",
    "data = np.array(x[:, 0], 'int16')\n",
    "R = 8\n",
    "BERt = 0.1\n",
    "sinal_normal = sinal_normalizado(data)\n",
    "SQ, IQ, VQ = quant(sinal_normal, R, 0)\n",
    "sinalcod = Codific(IQ,R)\n",
    "ham = Hamming_8_4(sinalcod)\n",
    "y = 1 * np.logical_xor(ham, np.random.binomial( 1, BERt, len(ham)))\n",
    "correctedb, correctedm = Detetor(y)\n",
    "\n",
    "BerScorrecao = sum(np.logical_xor(ham,y)) / float(len(ham))\n",
    "\n",
    "print(\"ber sem correcao\")\n",
    "print(str(BerScorrecao))\n",
    "\n",
    "\n",
    "#medicao do ber apos correcao\n",
    "\n",
    "erro = 0\n",
    "for i in range(len(sinalcod)):\n",
    "    if(sinalcod[i] != correctedm[i]):\n",
    "        erro = erro +1\n",
    "\n",
    "\n",
    "#com correcao\n",
    "\n",
    "berCorrecao = float(erro) / float(len(sinalcod))\n",
    "\n",
    "print(\"BER com correcao\")\n",
    "print(str(berCorrecao))\n",
    "\n",
    "#resposta"
   ]
  },
  {
   "cell_type": "markdown",
   "metadata": {},
   "source": [
    "Considere o sinal de áudio previamente gravado. Meça SNR na recepção, o BER antes e após a correcção de erros, para diferentes valores de  𝐵𝐸𝑅𝑡 . (considera-se que o ruído é a diferença entre o sinal à entrada do transmissor e o sinal à saída do receptor); Comente os resultados obtidos."
   ]
  },
  {
   "cell_type": "code",
   "execution_count": null,
   "metadata": {},
   "outputs": [],
   "source": []
  },
  {
   "cell_type": "markdown",
   "metadata": {},
   "source": [
    "Considere a imagem fornecida e meça a SNR e o BER com e sem correção de erros.\n",
    "Visualize a imagem no receptor e comente os resultados."
   ]
  },
  {
   "cell_type": "code",
   "execution_count": 27,
   "metadata": {},
   "outputs": [
    {
     "name": "stdout",
     "output_type": "stream",
     "text": [
      "1.9573066979273124\n"
     ]
    }
   ],
   "source": [
    "import numpy as np\n",
    "import scipy.stats\n",
    "import PIL\n",
    "from PIL import Image\n",
    "\n",
    "#SNR\n",
    "\n",
    "def signaltonoise(a, axis=0, ddof=0):\n",
    "    a = np.asanyarray(a)\n",
    "    m = a.mean(axis)\n",
    "    sd = a.std(axis=axis, ddof=ddof)\n",
    "    return np.where(sd == 0, 0, m/sd)\n",
    "\n",
    "img = Image.open(\"flower.jpeg\")\n",
    "\n",
    "print(signaltonoise(img, axis=None))\n",
    "\n",
    "\n"
   ]
  }
 ],
 "metadata": {
  "kernelspec": {
   "display_name": "Python 3",
   "language": "python",
   "name": "python3"
  },
  "language_info": {
   "codemirror_mode": {
    "name": "ipython",
    "version": 3
   },
   "file_extension": ".py",
   "mimetype": "text/x-python",
   "name": "python",
   "nbconvert_exporter": "python",
   "pygments_lexer": "ipython3",
   "version": "3.8.5"
  }
 },
 "nbformat": 4,
 "nbformat_minor": 2
}
