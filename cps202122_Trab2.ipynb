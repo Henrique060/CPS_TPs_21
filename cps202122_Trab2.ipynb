{
 "cells": [
  {
   "cell_type": "markdown",
   "metadata": {},
   "source": [
    "# ISEL - CPS \n",
    "## Semestre 2021/22\n",
    "# <br>\n",
    "###  <center> Trabalho Prático 2</center>\n",
    "# </br>\n",
    "\n",
    "Trabalho realizado por:\n",
    "* aluno1, numero <b> 00000 </b>\n",
    "* aluno2, numero <b> 00000 </b>\n",
    "\n",
    "\n"
   ]
  },
  {
   "cell_type": "markdown",
   "metadata": {},
   "source": [
    "A figura representa o esquema típico do processo de envio e recepção de informação usando modulações\n",
    "digitais.\n",
    "\n",
    "![fig_trab](esquemaCPS.png)\n",
    "\n",
    "O 2º trabalho foca os blocos Codificação/descodificação do sinal e os blocos Deteção e Correção de erros. O canal é modelado pelo modelo Binary Symmetric Channel ([BSC](https://en.wikipedia.org/wiki/Binary_symmetric_channel)) "
   ]
  },
  {
   "cell_type": "markdown",
   "metadata": {},
   "source": [
    "# Codificação\n",
    "Construa uma função Python que dado um Numpy array (com dimensão $N$) com valores inteiros, retorne um Numpy array (com dimensão $N.R\\times 1$) com os mesmos valores convertidos para binário.\n",
    "Esta função ainda deve receber como parâmetros de entrada o número de bits ($R$) a usar na conversão de cada inteiro.\n"
   ]
  },
  {
   "cell_type": "code",
   "execution_count": 2,
   "metadata": {},
   "outputs": [],
   "source": [
    "import numpy as np\n",
    "import matplotlib.pyplot as plt\n",
    "import itertools\n",
    "\n",
    "def Codific(arr_signal_quantized,R):\n",
    "    \"\"\" arr_signal_quantized = [];\n",
    "    arr_binary = np.zeros(len(arr_signal_quantized))\n",
    "    for i in range(len(arr_signal_quantized)):\n",
    "        arr_binary[i] = np.binary_repr(arr_signal_quantized[i], width=R) \"\"\"\n",
    "\n",
    "    val = \"0\" + str(R) + \"b\"\n",
    "    array = list(map(lambda z: format(z,val), arr_signal_quantized))\n",
    "    s = itertools.chain(*array)\n",
    "    arrayint = list(map(int,s))\n",
    "\n",
    "    arr_binary = np.array(map(int,s))\n",
    "    \n",
    "    return arr_binary\n"
   ]
  },
  {
   "cell_type": "markdown",
   "metadata": {},
   "source": [
    "Construa uma função que dado um Numpy array com valores os bits, faça a conversão para inteiros (considerando R bits)."
   ]
  },
  {
   "cell_type": "code",
   "execution_count": 3,
   "metadata": {},
   "outputs": [],
   "source": [
    "def Descodific(arr_binary,R):\n",
    "    #resposta\n",
    "\n",
    "    arrays = []\n",
    "    x = 0\n",
    "    ze = R\n",
    "    for z in range(int(len(arr_binary) / R )):\n",
    "        arrayconv = array[x:ze]\n",
    "        arrayconv = \"\".join(map(str, arrayconv))\n",
    "        arrays.append(arrayconv)\n",
    "        x = x+R\n",
    "        ze = ze + R\n",
    "    arrays = list(map(lambda z: int (z,2), arrays))\n",
    "\n",
    "    arr_signal = np.array(arrays)\n",
    "\n",
    "    return arr_signal"
   ]
  },
  {
   "cell_type": "markdown",
   "metadata": {},
   "source": [
    "Com base nas funções já implementadas, faça a codificação e descodificação PCM uniforme do sinal de áudio previamente gravado.\n",
    "Verifique qual a SNR obtida e ouça o sinal descodificado. \n",
    "Use para o efeito R=3, 5 e 8."
   ]
  },
  {
   "cell_type": "code",
   "execution_count": 4,
   "metadata": {},
   "outputs": [],
   "source": [
    "#Resposta:"
   ]
  },
  {
   "cell_type": "markdown",
   "metadata": {},
   "source": [
    "Faça o mesmo teste mas agora com a imagem fornecida.\n",
    "comente os resultados obtidos."
   ]
  },
  {
   "cell_type": "code",
   "execution_count": 5,
   "metadata": {
    "scrolled": true
   },
   "outputs": [],
   "source": [
    "#Resposta:"
   ]
  },
  {
   "cell_type": "markdown",
   "metadata": {},
   "source": [
    "# Deteção e Correção de erros\n",
    "\n",
    "Construa uma função que implemente o Hamming(8,4). Utilize a seguinte matriz geradora:"
   ]
  },
  {
   "cell_type": "code",
   "execution_count": 18,
   "metadata": {},
   "outputs": [
    {
     "data": {
      "text/plain": [
       "array([[1, 0, 0, 0, 1, 1, 0, 1],\n",
       "       [0, 1, 0, 0, 1, 0, 1, 1],\n",
       "       [0, 0, 1, 0, 0, 1, 1, 1],\n",
       "       [0, 0, 0, 1, 1, 1, 1, 0]])"
      ]
     },
     "execution_count": 18,
     "metadata": {},
     "output_type": "execute_result"
    }
   ],
   "source": [
    "G=np.array([[1,0,0,0,1,1,0,1],[0,1,0,0,1,0,1,1],[0,0,1,0,0,1,1,1],[0,0,0,1,1,1,1,0]])\n",
    "G"
   ]
  },
  {
   "cell_type": "code",
   "execution_count": 19,
   "metadata": {},
   "outputs": [],
   "source": [
    "import numpy as np\n",
    "import matplotlib.pyplot as plt\n",
    "\n",
    "def Hamming_8_4(arr_bits):\n",
    "    # resposta\n",
    "\n",
    "    Ik = np.array([[1,0,1],[0,1,1],[1,1,1],[1,1,0]])\n",
    "    \n",
    "    \n",
    "    c = np.array_split(arr_bits, 2)\n",
    "\n",
    "\n",
    "    c1 = np.dot(c[0], Ik) / 2\n",
    "    c2 = np.dot(c[1], Ik) / 2\n",
    "\n",
    "    codigo = np.concatenate((c1,c2), axis=None)\n",
    "\n",
    "    return codigo\n",
    "\n",
    "\n",
    "\n",
    "    "
   ]
  },
  {
   "cell_type": "markdown",
   "metadata": {},
   "source": [
    "Construa uma função que dado um Numpy array M bits, para cada 8 bits detecte e corriga possíveis erros, sendo o resultado 4 bits de mensagem.\n"
   ]
  },
  {
   "cell_type": "code",
   "execution_count": 20,
   "metadata": {},
   "outputs": [],
   "source": [
    "def Detetor(arr_binary):\n",
    "    #resposta\n",
    "\n",
    "    \n",
    "    \n",
    "    \n",
    "    return arr_bits"
   ]
  },
  {
   "cell_type": "markdown",
   "metadata": {},
   "source": [
    "Faça um conjunto de testes para verificar o correto funcionamento das funções."
   ]
  },
  {
   "cell_type": "code",
   "execution_count": 21,
   "metadata": {},
   "outputs": [
    {
     "data": {
      "text/plain": [
       "array([1.5, 1.5, 1.5, 1.5, 1.5, 1.5])"
      ]
     },
     "execution_count": 21,
     "metadata": {},
     "output_type": "execute_result"
    }
   ],
   "source": [
    "a = np.array([1,1,1,1,1,1,1,1])\n",
    "\n",
    "Hamming_8_4(a)"
   ]
  },
  {
   "cell_type": "markdown",
   "metadata": {},
   "source": [
    "Construa uma função que meça a BER entre o array de bits enviado e o array de bits recebido."
   ]
  },
  {
   "cell_type": "code",
   "execution_count": 22,
   "metadata": {},
   "outputs": [],
   "source": [
    "def BER_pratico(arr_bin_tx, arr_bin_rx):\n",
    "    # resposta\n",
    "    return BER_pratico"
   ]
  },
  {
   "cell_type": "markdown",
   "metadata": {},
   "source": [
    "Com as duas funções realizadas e admitindo que os restantes blocos do emissor, canal e receptor possam ser simulados pela expressão $y=1*np.logical\\_xor(x,np.random.binomial(1, BER_t,len(x)))$, onde $BER_t$ contém o valor pretendido para o bit error rate.\n",
    "\n",
    "Meça o BER antes e após a correcção de erros, para diferentes valores de $BER_t$."
   ]
  },
  {
   "cell_type": "code",
   "execution_count": 23,
   "metadata": {},
   "outputs": [
    {
     "ename": "NameError",
     "evalue": "name 'x' is not defined",
     "output_type": "error",
     "traceback": [
      "\u001b[1;31m---------------------------------------------------------------------------\u001b[0m",
      "\u001b[1;31mNameError\u001b[0m                                 Traceback (most recent call last)",
      "\u001b[1;32m<ipython-input-23-ea9fdbaacf0e>\u001b[0m in \u001b[0;36m<module>\u001b[1;34m\u001b[0m\n\u001b[0;32m      1\u001b[0m \u001b[1;31m#x - array de bits a entrar no canal\u001b[0m\u001b[1;33m\u001b[0m\u001b[1;33m\u001b[0m\u001b[1;33m\u001b[0m\u001b[0m\n\u001b[0;32m      2\u001b[0m \u001b[1;31m#y - array de bits a sair do canal\u001b[0m\u001b[1;33m\u001b[0m\u001b[1;33m\u001b[0m\u001b[1;33m\u001b[0m\u001b[0m\n\u001b[1;32m----> 3\u001b[1;33m \u001b[0my\u001b[0m \u001b[1;33m=\u001b[0m \u001b[1;36m1\u001b[0m \u001b[1;33m*\u001b[0m \u001b[0mnp\u001b[0m\u001b[1;33m.\u001b[0m\u001b[0mlogical_xor\u001b[0m\u001b[1;33m(\u001b[0m \u001b[0mx\u001b[0m\u001b[1;33m,\u001b[0m \u001b[0mnp\u001b[0m\u001b[1;33m.\u001b[0m\u001b[0mrandom\u001b[0m\u001b[1;33m.\u001b[0m\u001b[0mbinomial\u001b[0m\u001b[1;33m(\u001b[0m \u001b[1;36m1\u001b[0m\u001b[1;33m,\u001b[0m \u001b[0mBERt\u001b[0m\u001b[1;33m,\u001b[0m \u001b[0mlen\u001b[0m\u001b[1;33m(\u001b[0m\u001b[0mx\u001b[0m\u001b[1;33m)\u001b[0m \u001b[1;33m)\u001b[0m \u001b[1;33m)\u001b[0m\u001b[1;33m\u001b[0m\u001b[1;33m\u001b[0m\u001b[0m\n\u001b[0m\u001b[0;32m      4\u001b[0m \u001b[1;33m\u001b[0m\u001b[0m\n\u001b[0;32m      5\u001b[0m \u001b[1;31m#resposta\u001b[0m\u001b[1;33m\u001b[0m\u001b[1;33m\u001b[0m\u001b[1;33m\u001b[0m\u001b[0m\n",
      "\u001b[1;31mNameError\u001b[0m: name 'x' is not defined"
     ]
    }
   ],
   "source": [
    "#x - array de bits a entrar no canal\n",
    "#y - array de bits a sair do canal\n",
    "y = 1 * np.logical_xor( x, np.random.binomial( 1, BERt, len(x) ) )\n",
    "\n",
    "#resposta"
   ]
  },
  {
   "cell_type": "markdown",
   "metadata": {},
   "source": [
    "Considere o sinal de áudio previamente gravado. Meça SNR na recepção, o BER antes e após a correcção de erros, para diferentes valores de  𝐵𝐸𝑅𝑡 . (considera-se que o ruído é a diferença entre o sinal à entrada do transmissor e o sinal à saída do receptor); Comente os resultados obtidos."
   ]
  },
  {
   "cell_type": "code",
   "execution_count": null,
   "metadata": {},
   "outputs": [],
   "source": []
  },
  {
   "cell_type": "markdown",
   "metadata": {},
   "source": [
    "Considere a imagem fornecida e meça a SNR e o BER com e sem correção de erros.\n",
    "Visualize a imagem no receptor e comente os resultados."
   ]
  },
  {
   "cell_type": "code",
   "execution_count": null,
   "metadata": {},
   "outputs": [],
   "source": []
  }
 ],
 "metadata": {
  "kernelspec": {
   "display_name": "Python 3",
   "language": "python",
   "name": "python3"
  },
  "language_info": {
   "codemirror_mode": {
    "name": "ipython",
    "version": 3
   },
   "file_extension": ".py",
   "mimetype": "text/x-python",
   "name": "python",
   "nbconvert_exporter": "python",
   "pygments_lexer": "ipython3",
   "version": "3.8.5"
  }
 },
 "nbformat": 4,
 "nbformat_minor": 2
}
